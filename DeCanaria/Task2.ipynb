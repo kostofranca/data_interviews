{
 "cells": [
  {
   "cell_type": "markdown",
   "id": "e57973e3",
   "metadata": {},
   "source": [
    "# Task2"
   ]
  },
  {
   "cell_type": "code",
   "execution_count": null,
   "id": "1b46e444",
   "metadata": {},
   "outputs": [],
   "source": [
    "import pandas as pd\n",
    "import re\n",
    "import json"
   ]
  },
  {
   "cell_type": "code",
   "execution_count": null,
   "id": "54ca455a",
   "metadata": {},
   "outputs": [],
   "source": [
    "# I did not clean \"\\n\" intentionally for regex pattern.\n",
    "\n",
    "def clean_HTML(text):\n",
    "    clean_text = re.sub('<[^<]+?>', '', text)  # Remove HTML tags\n",
    "    #clean_text = re.sub('\\n', ' ', clean_text)  # Replace \\n with a space\n",
    "    #clean_text = re.sub('\\s+', ' ', clean_text)  # Replace multiple whitespaces with a single space\n",
    "    #clean_text = re.sub('-', '', clean_text)  # Replace \"-\" with a space\n",
    "\n",
    "    return clean_text"
   ]
  },
  {
   "cell_type": "code",
   "execution_count": null,
   "id": "8b9a3ad9",
   "metadata": {},
   "outputs": [],
   "source": [
    "df = pd.read_csv(\"data/indeed_us_job_description.csv\")"
   ]
  },
  {
   "cell_type": "code",
   "execution_count": null,
   "id": "696c0dd4",
   "metadata": {},
   "outputs": [],
   "source": [
    "for i in range(len(df[\"job_description\"])):\n",
    "    df.iat[i,5] = clean_HTML(df.iat[i,5])"
   ]
  },
  {
   "cell_type": "code",
   "execution_count": null,
   "id": "c93e59fc",
   "metadata": {
    "scrolled": false
   },
   "outputs": [],
   "source": [
    "print(df.iat[2,5])"
   ]
  },
  {
   "cell_type": "code",
   "execution_count": null,
   "id": "55de8092",
   "metadata": {},
   "outputs": [],
   "source": [
    "# works a little more slower than the cells in the Task1\n",
    "\n",
    "final_dict = {}\n",
    "\n",
    "for i in range(len(df)):\n",
    "    # the string and regular expression pattern\n",
    "    text = df.iat[i,5]\n",
    "    pattern = r'(.*):(.*)'\n",
    "\n",
    "    # Find all matches and create a dictionary\n",
    "    matches = re.findall(pattern, text)\n",
    "\n",
    "    match_dict = {}\n",
    "\n",
    "    for match in matches:\n",
    "        match_dict[match[0].strip()] = match[1].strip()\n",
    "\n",
    "        if(\"locat\" in match[1] and match[0] != \"Work Location\"):\n",
    "            match_dict[\"location\"] = match[0]\n",
    "\n",
    "\n",
    "    # Print the resulting dictionary\n",
    "    final_dict[i] = match_dict"
   ]
  },
  {
   "cell_type": "markdown",
   "id": "468f02f9",
   "metadata": {},
   "source": [
    "### What is the average number of fields (listed above) found per job listing?"
   ]
  },
  {
   "cell_type": "code",
   "execution_count": null,
   "id": "582ee044",
   "metadata": {
    "scrolled": true
   },
   "outputs": [],
   "source": [
    "count = 0\n",
    "\n",
    "# iterates over final_dict's keys and computes the sum of # of keys.\n",
    "for i in range(len(final_dict.items())):\n",
    "    count += len(final_dict[i].keys())\n",
    "\n",
    "print(\"Average number of fields in the dict = \" + str(count/len(final_dict.items())))"
   ]
  },
  {
   "cell_type": "markdown",
   "id": "3e18153a",
   "metadata": {},
   "source": [
    "### What percentages does each segment correspond to within the job descriptions?"
   ]
  },
  {
   "cell_type": "code",
   "execution_count": null,
   "id": "114b63e3",
   "metadata": {},
   "outputs": [],
   "source": [
    "count_all = 0\n",
    "\n",
    "for i in range(len(final_dict.items())):\n",
    "    final_dict[i].values() == 0\n",
    "    count_all += len(final_dict[i].values() )\n",
    "\n",
    "print(\"Count of all fileds = \", count_all)"
   ]
  },
  {
   "cell_type": "code",
   "execution_count": null,
   "id": "1fd68ecd",
   "metadata": {},
   "outputs": [],
   "source": [
    "count_empty = 0\n",
    "\n",
    "for j in range(len(final_dict.items())):\n",
    "    for i in final_dict[j].values():\n",
    "        if len(i) == 0:\n",
    "            count_empty += 1\n",
    "\n",
    "print(\"Count of empty fileds = \",count_empty)"
   ]
  },
  {
   "cell_type": "code",
   "execution_count": null,
   "id": "831cfc17",
   "metadata": {},
   "outputs": [],
   "source": [
    "# Very low percentage :(\n",
    "\n",
    "print(\"Correspondent data persentage = %\", 100 - 100*(count_empty/count_all))"
   ]
  },
  {
   "cell_type": "code",
   "execution_count": null,
   "id": "668c6cec",
   "metadata": {},
   "outputs": [],
   "source": [
    "with open(\"task2.json\", \"w\") as outfile:\n",
    "    json.dump(final_dict, outfile)"
   ]
  },
  {
   "cell_type": "code",
   "execution_count": null,
   "id": "56db5024",
   "metadata": {},
   "outputs": [],
   "source": []
  }
 ],
 "metadata": {
  "kernelspec": {
   "display_name": "Python 3 (ipykernel)",
   "language": "python",
   "name": "python3"
  },
  "language_info": {
   "codemirror_mode": {
    "name": "ipython",
    "version": 3
   },
   "file_extension": ".py",
   "mimetype": "text/x-python",
   "name": "python",
   "nbconvert_exporter": "python",
   "pygments_lexer": "ipython3",
   "version": "3.10.9"
  }
 },
 "nbformat": 4,
 "nbformat_minor": 5
}
